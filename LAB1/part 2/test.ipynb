{
 "cells": [
  {
   "cell_type": "code",
   "execution_count": 35,
   "id": "69af50e0",
   "metadata": {},
   "outputs": [
    {
     "name": "stdout",
     "output_type": "stream",
     "text": [
      "\"part 2 a\"\n",
      "\"Test case 1\"\n",
      "22\n"
     ]
    }
   ],
   "source": [
    "!g++ a.cpp -o a\n",
    "!echo \"part 2 a\"\n",
    "!echo \"Test case 1\"\n",
    "!echo 11 | a.exe"
   ]
  },
  {
   "cell_type": "code",
   "execution_count": 36,
   "id": "ba7788fd",
   "metadata": {},
   "outputs": [
    {
     "name": "stdout",
     "output_type": "stream",
     "text": [
      "\"part 2 a\"\n",
      "\"Test case 2\"\n",
      "-8\n"
     ]
    }
   ],
   "source": [
    "!g++ a.cpp -o a\n",
    "!echo \"part 2 a\"\n",
    "!echo \"Test case 2\"\n",
    "!echo 8 | a.exe"
   ]
  },
  {
   "cell_type": "code",
   "execution_count": 37,
   "id": "b834431a",
   "metadata": {},
   "outputs": [
    {
     "name": "stdout",
     "output_type": "stream",
     "text": [
      "\"part 2 b\"\n",
      "\"Test case 1\"\n",
      "22\n"
     ]
    }
   ],
   "source": [
    "!g++ a.cpp -o b\n",
    "!echo \"part 2 b\"\n",
    "!echo \"Test case 1\"\n",
    "!echo 11 | b.exe"
   ]
  },
  {
   "cell_type": "code",
   "execution_count": 38,
   "id": "407f8d79",
   "metadata": {},
   "outputs": [
    {
     "name": "stdout",
     "output_type": "stream",
     "text": [
      "\"part 2 b\"\n",
      "\"Test case 2\"\n",
      "-5\n"
     ]
    }
   ],
   "source": [
    "!g++ b.cpp -o b\n",
    "!echo \"part 2 b\"\n",
    "!echo \"Test case 2\"\n",
    "!echo 5 | b.exe"
   ]
  },
  {
   "cell_type": "code",
   "execution_count": 39,
   "id": "7eb61eba",
   "metadata": {},
   "outputs": [
    {
     "name": "stdout",
     "output_type": "stream",
     "text": [
      "\"part 2 b\"\n",
      "\"Test case 3\"\n",
      "0\n"
     ]
    }
   ],
   "source": [
    "!g++ b.cpp -o b\n",
    "!echo \"part 2 b\"\n",
    "!echo \"Test case 3\"\n",
    "!echo 0 | b.exe"
   ]
  },
  {
   "cell_type": "code",
   "execution_count": 40,
   "id": "19d4aec5",
   "metadata": {},
   "outputs": [
    {
     "name": "stdout",
     "output_type": "stream",
     "text": [
      "\"part 2 b\"\n",
      "\"Test case 4\"\n",
      "-6\n"
     ]
    }
   ],
   "source": [
    "!g++ b.cpp -o b\n",
    "!echo \"part 2 b\"\n",
    "!echo \"Test case 4\"\n",
    "!echo -3 | b.exe"
   ]
  },
  {
   "cell_type": "code",
   "execution_count": 41,
   "id": "be77bb65",
   "metadata": {},
   "outputs": [
    {
     "name": "stdout",
     "output_type": "stream",
     "text": [
      "\"part 2 c\"\n",
      "\"Test case 1\"\n",
      "2\n"
     ]
    }
   ],
   "source": [
    "!g++ c.cpp -o c\n",
    "!echo \"part 2 c\"\n",
    "!echo \"Test case 1\"\n",
    "!echo 1 | c.exe"
   ]
  },
  {
   "cell_type": "code",
   "execution_count": 42,
   "id": "5d692096",
   "metadata": {},
   "outputs": [
    {
     "name": "stdout",
     "output_type": "stream",
     "text": [
      "\"part 2 c\"\n",
      "\"Test case 2\"\n",
      "10\n"
     ]
    }
   ],
   "source": [
    "!g++ c.cpp -o c\n",
    "!echo \"part 2 c\"\n",
    "!echo \"Test case 2\"\n",
    "!echo 5 | c.exe"
   ]
  },
  {
   "cell_type": "code",
   "execution_count": 43,
   "id": "34c346c5",
   "metadata": {},
   "outputs": [
    {
     "name": "stdout",
     "output_type": "stream",
     "text": [
      "\"part 2 c\"\n",
      "\"Test case 3\"\n",
      "30\n"
     ]
    }
   ],
   "source": [
    "!g++ c.cpp -o c\n",
    "!echo \"part 2 c\"\n",
    "!echo \"Test case 3\"\n",
    "!echo 15 | c.exe"
   ]
  },
  {
   "cell_type": "code",
   "execution_count": 44,
   "id": "35cc17aa",
   "metadata": {},
   "outputs": [
    {
     "name": "stdout",
     "output_type": "stream",
     "text": [
      "\"part 2 d\"\n",
      "\"Test case 1\"\n",
      "4\n"
     ]
    }
   ],
   "source": [
    "!g++ d.cpp -o d\n",
    "!echo \"part 2 d\"\n",
    "!echo \"Test case 1\"\n",
    "!echo 2 | d.exe"
   ]
  },
  {
   "cell_type": "code",
   "execution_count": 45,
   "id": "7ac628a0",
   "metadata": {},
   "outputs": [
    {
     "name": "stdout",
     "output_type": "stream",
     "text": [
      "\"part 2 d\"\n",
      "\"Test case 2\"\n",
      "0\n"
     ]
    }
   ],
   "source": [
    "!g++ d.cpp -o d\n",
    "!echo \"part 2 d\"\n",
    "!echo \"Test case 2\"\n",
    "!echo 0 | d.exe"
   ]
  },
  {
   "cell_type": "code",
   "execution_count": 46,
   "id": "619cb9e6",
   "metadata": {},
   "outputs": [
    {
     "name": "stdout",
     "output_type": "stream",
     "text": [
      "\"part 2 d\"\n",
      "\"Test case 3\"\n",
      "-2\n"
     ]
    }
   ],
   "source": [
    "!g++ d.cpp -o d\n",
    "!echo \"part 2 d\"\n",
    "!echo \"Test case 3\"\n",
    "!echo -1 | d.exe"
   ]
  },
  {
   "cell_type": "code",
   "execution_count": 47,
   "id": "94144a9f",
   "metadata": {},
   "outputs": [
    {
     "name": "stdout",
     "output_type": "stream",
     "text": [
      "\"part 2 e\"\n",
      "\"Test case 1\"\n",
      "5\n"
     ]
    }
   ],
   "source": [
    "!g++ e.cpp -o e\n",
    "!echo \"part 2 e\"\n",
    "!echo \"Test case 1\"\n",
    "!echo 5 2 1 | e.exe"
   ]
  },
  {
   "cell_type": "code",
   "execution_count": 48,
   "id": "f72fa6fe",
   "metadata": {},
   "outputs": [
    {
     "name": "stdout",
     "output_type": "stream",
     "text": [
      "\"part 2 e\"\n",
      "\"Test case 2\"\n",
      "9\n"
     ]
    }
   ],
   "source": [
    "!g++ e.cpp -o e\n",
    "!echo \"part 2 e\"\n",
    "!echo \"Test case 2\"\n",
    "!echo 2 9 3 | e.exe"
   ]
  },
  {
   "cell_type": "code",
   "execution_count": 49,
   "id": "05fdcf3e",
   "metadata": {},
   "outputs": [
    {
     "name": "stdout",
     "output_type": "stream",
     "text": [
      "\"part 2 e\"\n",
      "\"Test case 3\"\n",
      "7\n"
     ]
    }
   ],
   "source": [
    "!g++ e.cpp -o e\n",
    "!echo \"part 2 e\"\n",
    "!echo \"Test case 3\"\n",
    "!echo 1 4 7 | e.exe"
   ]
  },
  {
   "cell_type": "code",
   "execution_count": 50,
   "id": "1aa3072a",
   "metadata": {},
   "outputs": [
    {
     "name": "stdout",
     "output_type": "stream",
     "text": [
      "\"part 2 e\"\n",
      "\"Test case 4\"\n",
      "0\n"
     ]
    }
   ],
   "source": [
    "!g++ e.cpp -o e\n",
    "!echo \"part 2 e\"\n",
    "!echo \"Test case 4\"\n",
    "!echo 5 5 3 | e.exe"
   ]
  },
  {
   "cell_type": "code",
   "execution_count": 51,
   "id": "ea12ab35",
   "metadata": {},
   "outputs": [
    {
     "name": "stdout",
     "output_type": "stream",
     "text": [
      "\"part 2 e\"\n",
      "\"Test case 5\"\n",
      "2\n"
     ]
    }
   ],
   "source": [
    "!g++ e.cpp -o e\n",
    "!echo \"part 2 e\"\n",
    "!echo \"Test case 5\"\n",
    "!echo 2 1 1| e.exe"
   ]
  },
  {
   "cell_type": "code",
   "execution_count": 52,
   "id": "9408bd6e",
   "metadata": {},
   "outputs": [
    {
     "name": "stdout",
     "output_type": "stream",
     "text": [
      "\"part 2 e\"\n",
      "\"Test case 6\"\n",
      "0\n"
     ]
    }
   ],
   "source": [
    "!g++ e.cpp -o e\n",
    "!echo \"part 2 e\"\n",
    "!echo \"Test case 6\"\n",
    "!echo 5 3 5| e.exe"
   ]
  },
  {
   "cell_type": "code",
   "execution_count": 53,
   "id": "266d07bd",
   "metadata": {},
   "outputs": [
    {
     "name": "stdout",
     "output_type": "stream",
     "text": [
      "\"part 2 e\"\n",
      "\"Test case 7\"\n",
      "0\n"
     ]
    }
   ],
   "source": [
    "!g++ e.cpp -o e\n",
    "!echo \"part 2 e\"\n",
    "!echo \"Test case 7\"\n",
    "!echo -7 -7 -7| e.exe"
   ]
  },
  {
   "cell_type": "code",
   "execution_count": 54,
   "id": "355ce85b",
   "metadata": {},
   "outputs": [
    {
     "name": "stdout",
     "output_type": "stream",
     "text": [
      "\"part 2 e\"\n",
      "\"Test case 7\"\n",
      "0\n"
     ]
    }
   ],
   "source": [
    "!g++ e.cpp -o e\n",
    "!echo \"part 2 e\"\n",
    "!echo \"Test case 7\"\n",
    "!echo 7 7 7| e.exe"
   ]
  }
 ],
 "metadata": {
  "kernelspec": {
   "display_name": "Python 3",
   "language": "python",
   "name": "python3"
  },
  "language_info": {
   "codemirror_mode": {
    "name": "ipython",
    "version": 3
   },
   "file_extension": ".py",
   "mimetype": "text/x-python",
   "name": "python",
   "nbconvert_exporter": "python",
   "pygments_lexer": "ipython3",
   "version": "3.13.7"
  }
 },
 "nbformat": 4,
 "nbformat_minor": 5
}
