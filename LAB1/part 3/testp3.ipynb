{
 "cells": [
  {
   "cell_type": "code",
   "execution_count": 17,
   "id": "800c43ee",
   "metadata": {},
   "outputs": [
    {
     "name": "stdout",
     "output_type": "stream",
     "text": [
      "\"Test Case 1:\"\n",
      " Infinite solutions.\n"
     ]
    }
   ],
   "source": [
    "!g++ p3.cpp -o p3\n",
    "!echo \"Test Case 1:\"\n",
    "!echo 0 0 0 | p3.exe"
   ]
  },
  {
   "cell_type": "code",
   "execution_count": 18,
   "id": "c2422d2b",
   "metadata": {},
   "outputs": [
    {
     "name": "stdout",
     "output_type": "stream",
     "text": [
      "\"Test Case 2:\"\n",
      "No solution.\n"
     ]
    }
   ],
   "source": [
    "!g++ p3.cpp -o p3\n",
    "!echo \"Test Case 2:\"\n",
    "!echo 0 0 1 | p3.exe"
   ]
  },
  {
   "cell_type": "code",
   "execution_count": 19,
   "id": "5dd1d68f",
   "metadata": {},
   "outputs": [
    {
     "name": "stdout",
     "output_type": "stream",
     "text": [
      "\"Test Case 3:\"\n",
      " The equation has 2 real solution(s): -0 0 \n"
     ]
    }
   ],
   "source": [
    "!g++ p3.cpp -o p3\n",
    "!echo \"Test Case 3:\"\n",
    "!echo 0 1 0 | p3.exe"
   ]
  },
  {
   "cell_type": "code",
   "execution_count": 20,
   "id": "9dd9f8b5",
   "metadata": {},
   "outputs": [
    {
     "name": "stdout",
     "output_type": "stream",
     "text": [
      "\"Test Case 4:\"\n",
      "No solution.\n"
     ]
    }
   ],
   "source": [
    "!g++ p3.cpp -o p3\n",
    "!echo \"Test Case 4:\"\n",
    "!echo 0 1 1 | p3.exe"
   ]
  },
  {
   "cell_type": "code",
   "execution_count": 21,
   "id": "c739f932",
   "metadata": {},
   "outputs": [
    {
     "name": "stdout",
     "output_type": "stream",
     "text": [
      "\"Test Case 5:\"\n",
      "\"beacause a=0\"\n",
      " The equation has 2 real solution(s): 3.16228 -3.16228 \n"
     ]
    }
   ],
   "source": [
    "!g++ p3.cpp -o p3\n",
    "!echo \"Test Case 5:\"\n",
    "!echo \"beacause a=0\"\n",
    "!echo 0 1 -10 | p3.exe"
   ]
  },
  {
   "cell_type": "code",
   "execution_count": 22,
   "id": "45d952a4",
   "metadata": {},
   "outputs": [
    {
     "name": "stdout",
     "output_type": "stream",
     "text": [
      "\"Test Case 6:\"\n",
      "No solution.\n"
     ]
    }
   ],
   "source": [
    "!g++ p3.cpp -o p3\n",
    "!echo \"Test Case 6:\"\n",
    "!echo 1 2 2 | p3.exe"
   ]
  },
  {
   "cell_type": "code",
   "execution_count": 23,
   "id": "c2b88fcf",
   "metadata": {},
   "outputs": [
    {
     "name": "stdout",
     "output_type": "stream",
     "text": [
      "\"Test Case 7:\"\n",
      " The equation has 2 real solution(s): 1 -1 \n"
     ]
    }
   ],
   "source": [
    "!g++ p3.cpp -o p3\n",
    "!echo \"Test Case 7:\"\n",
    "!echo 1 -2 1| p3.exe"
   ]
  },
  {
   "cell_type": "code",
   "execution_count": 27,
   "id": "135f1038",
   "metadata": {},
   "outputs": [
    {
     "name": "stdout",
     "output_type": "stream",
     "text": [
      "\"Test Case 8:\"\n",
      " The equation has 4 real solution(s): 1.73205 -1.73205 1.41421 -1.41421 \n"
     ]
    }
   ],
   "source": [
    "!g++ p3.cpp -o p3\n",
    "!echo \"Test Case 8:\"\n",
    "!echo 1 -5 6| p3.exe"
   ]
  },
  {
   "cell_type": "code",
   "execution_count": 25,
   "id": "438c3ffb",
   "metadata": {},
   "outputs": [
    {
     "name": "stdout",
     "output_type": "stream",
     "text": [
      "\"Test Case 9:\"\n",
      " The equation has 2 real solution(s): 0 -0 \n"
     ]
    }
   ],
   "source": [
    "!g++ p3.cpp -o p3\n",
    "!echo \"Test Case 9:\"\n",
    "!echo 1 0 0| p3.exe"
   ]
  },
  {
   "cell_type": "code",
   "execution_count": 26,
   "id": "81073fc6",
   "metadata": {},
   "outputs": [
    {
     "name": "stdout",
     "output_type": "stream",
     "text": [
      "\"Test Case 10:\"\n",
      " The equation has 2 real solution(s): 1.41421 -1.41421 \n"
     ]
    }
   ],
   "source": [
    "!g++ p3.cpp -o p3\n",
    "!echo \"Test Case 10:\"\n",
    "!echo 1 -4 4| p3.exe"
   ]
  }
 ],
 "metadata": {
  "kernelspec": {
   "display_name": "Python 3",
   "language": "python",
   "name": "python3"
  },
  "language_info": {
   "codemirror_mode": {
    "name": "ipython",
    "version": 3
   },
   "file_extension": ".py",
   "mimetype": "text/x-python",
   "name": "python",
   "nbconvert_exporter": "python",
   "pygments_lexer": "ipython3",
   "version": "3.13.7"
  }
 },
 "nbformat": 4,
 "nbformat_minor": 5
}
